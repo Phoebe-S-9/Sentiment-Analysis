{
 "cells": [
  {
   "cell_type": "code",
   "execution_count": 1,
   "id": "ea78d393",
   "metadata": {},
   "outputs": [],
   "source": [
    "#sentiment analysis\n",
    "#Phoebe S.\n",
    "#march 24,2022\n",
    "\n",
    "#imports \n",
    "import pandas as pd\n",
    "import numpy as np\n",
    "\n",
    "from sklearn.model_selection import train_test_split\n",
    "\n",
    "from sklearn.neighbors import KNeighborsClassifier # KNN\n",
    "from sklearn.naive_bayes import GaussianNB # Gaussian Naive Bayes \n",
    "\n",
    "import pylab as pl\n",
    "import matplotlib.pyplot as plt\n",
    "\n",
    "from sklearn.metrics import f1_score\n",
    "from sklearn.metrics import precision_score\n",
    "from sklearn.metrics import recall_score\n",
    "from sklearn.metrics import classification_report, confusion_matrix\n",
    "\n",
    "\n",
    "from nltk.tokenize import word_tokenize\n",
    "from nltk.stem.wordnet import WordNetLemmatizer #root words#Lemmatization reduces words to their base word\n",
    "lem = WordNetLemmatizer()\n"
   ]
  },
  {
   "cell_type": "code",
   "execution_count": 2,
   "id": "b5e08330",
   "metadata": {},
   "outputs": [
    {
     "name": "stdout",
     "output_type": "stream",
     "text": [
      "['bad', 'deceive', 'flaw', 'disappoint', 'bore', 'huge', 'large', 'big', 'poor', 'awful', 'terrible', 'delicate', 'scratch', 'itch', 'itchy', 'expensive', 'sad', 'ugly', 'aggravate', 'anger', 'annoy', 'awful', 'awkward', 'bother', 'break', 'bug', 'burden', 'challenge', 'chaos', 'complain', 'concen', 'conflict', 'confuse', 'con', 'costly', 'crazy', 'degrade', 'deprive', 'desperate', 'deteriorate', 'detest', 'Hate', 'disagree', 'disapprove', 'disaster', 'discouraging', 'disdain', 'disgust', 'disgrace', 'dishonest', 'dislike', 'disregard', 'disrespect', 'distasteful', 'distraught', 'doubt', 'dull', 'error', 'excuse', 'excessive', 'exhaust', 'expire', 'fail', 'fake', 'fall', 'frustrate', 'greed', 'grieve', 'gross', 'hard', 'harsh', 'harm', 'hate', 'horrid', 'horrible', 'hostile', 'hurt', 'impatient', 'impossible', 'inadequate', 'inaccurate', 'inconsistent', 'inconvenience', 'incorrect', 'ineffective', 'insane', 'insignificant', 'insult', 'intense', 'intolerable', 'irresponsible', 'liar', 'lie', 'loath', 'limit', 'lose', 'loss', 'mad', 'mess', 'miserable', 'miss', 'nasty', 'odd', 'offend', 'overpriced', 'overrated', 'overstatement', 'oversize', 'overwhelm', 'pain', 'panic', 'paranoid', 'pathetic', 'peeve', 'poor', 'pretend', 'problem', 'protest', 'punish', 'provoke', 'rage', 'rant', 'refuse', 'regret', 'reject', 'remorse', 'repulse', 'resent', 'revolt', 'rip-off', 'ripoff', 'ruin', 'rough', 'sad', 'severe', 'shock', 'sick', 'shun', 'slow', 'sorry', 'stain', 'stress', 'stupid', 'suck', 'suffer', 'terrible', 'threat', 'tricky', 'unacceptable', 'unable', 'unavailable', 'unavoidably', 'unbearably', 'unbelievable', 'uncertain', 'uncomfy', 'unfortunate', 'unhappy', 'unnatural', 'unlucky', 'unpopular', 'unpleasant', 'unreasonable', 'unsatisfactory', 'untrue', 'unusual', 'upset', 'violate', 'weak', 'waste', 'weird', 'worthless', 'wreak', 'wretch', 'wrong', 'unflatter', 'small', 'flat', 'disappointment', 'return', 'massive', 'short', 'bulk', 'issue', 'shrunk', 'crazy']\n",
      "['good', 'style', 'best', 'gorgeous', 'amaze', 'flatter', 'sweet', 'beautiful', 'great', 'perfect', 'nice', 'love', 'lovely', 'cute', 'cozy', 'comfy', 'comfort', 'comfortable', 'elegant', 'impressed', 'gorgeous', 'stunning', 'stun', 'pretty', 'sexy', 'fun', 'like', 'favorite', 'attractive', 'fabulous', 'stunning', 'happy', 'bright', 'admire', 'adore', 'adorable', 'affordable', 'amaze', 'appreciate', 'attract', 'awesome', 'bargain', 'best', 'enjoy', 'fantastic', 'flawless', 'friendly', 'fresh', 'splendid', 'success', 'wonderful', 'stylish', 'better', 'clean', 'cool', 'chic', 'gain', 'gentle', 'glad', 'glee', 'great', 'help', 'joy', 'nice', 'neat', 'pleasant', 'positive', 'recommend', 'remarkable', 'rich', 'right', 'satisfy', 'soft', 'luxury', 'approve', 'classic', 'classy', 'vibrant', 'unique', 'excite', 'compliment', 'easy', 'fab', 'art', 'elegant', 'cozy', 'nice', 'like', 'attract', 'impress']\n"
     ]
    }
   ],
   "source": [
    "#read files #split text into good or bad meaning\n",
    "\n",
    "def readFile(file_name):#read files for it\n",
    "        file = open(file_name, \"r\") \n",
    "        words = file.read().splitlines() \n",
    "        file.close()\n",
    "        return words\n",
    "    \n",
    "\n",
    "badWords= readFile(\"bad.txt\")\n",
    "print (badWords)\n",
    "\n",
    "goodWords= readFile(\"good.txt\")\n",
    "print (goodWords)\n",
    "\n",
    "#neutralWords = [\"nice\", \"comfortable\", \"cozy\",\"elegant\", \"impress\",\"like\",\"attractive\",\"okay\",\"ok\", \"fine\", \"fair\",\"alright\"]\n",
    "expressionWords =[\"!\",\"super\", \"lot\",\"too\",\"very\",\"really\"] #eg !,too: #if this is in sentence ->make it more bad/good \n",
    "negateWords = [\"no\",\"not\",\"don't\",\"won't\",\"but\",\"didn't\"] #\"not\" - check if negate sentence# not-negate sentecne #check if word before = \"not\"-> increase other counter\n"
   ]
  },
  {
   "cell_type": "code",
   "execution_count": 3,
   "id": "5ce63036",
   "metadata": {},
   "outputs": [
    {
     "name": "stdout",
     "output_type": "stream",
     "text": [
      "   Unnamed: 0  Clothing ID  Age                    Title  \\\n",
      "0           0          767   33                      NaN   \n",
      "1           1         1080   34                      NaN   \n",
      "2           2         1077   60  Some major design flaws   \n",
      "3           3         1049   50         My favorite buy!   \n",
      "4           4          847   47         Flattering shirt   \n",
      "\n",
      "                                         Review Text  Rating  Recommended IND  \\\n",
      "0  Absolutely wonderful - silky and sexy and comf...       4                1   \n",
      "1  Love this dress!  it's sooo pretty.  i happene...       5                1   \n",
      "2  I had such high hopes for this dress and reall...       3                0   \n",
      "3  I love, love, love this jumpsuit. it's fun, fl...       5                1   \n",
      "4  This shirt is very flattering to all due to th...       5                1   \n",
      "\n",
      "   Positive Feedback Count   Division Name Department Name Class Name  \n",
      "0                        0       Initmates        Intimate  Intimates  \n",
      "1                        4         General         Dresses    Dresses  \n",
      "2                        0         General         Dresses    Dresses  \n",
      "3                        0  General Petite         Bottoms      Pants  \n",
      "4                        6         General            Tops    Blouses  \n"
     ]
    }
   ],
   "source": [
    "#Load the original data\n",
    "sentiment_df= pd.read_csv(\"Womens Clothing E-Commerce Reviews.csv\",delimiter = \",\")\n",
    "df = sentiment_df #copy \n",
    "\n",
    "print(sentiment_df.head())\n",
    "#print(df.head())\n"
   ]
  },
  {
   "cell_type": "code",
   "execution_count": 4,
   "id": "bf883ff6",
   "metadata": {},
   "outputs": [
    {
     "data": {
      "image/png": "[encoded data removed]",
      "text/plain": [
       "<Figure size 432x288 with 1 Axes>"
      ]
     },
     "metadata": {
      "needs_background": "light"
     },
     "output_type": "display_data"
    },
    {
     "data": {
      "image/png": "[encoded data removed]",
      "text/plain": [
       "<Figure size 432x288 with 1 Axes>"
      ]
     },
     "metadata": {
      "needs_background": "light"
     },
     "output_type": "display_data"
    }
   ],
   "source": [
    "#graphs - showing distriubtions of Ratings based on dif text features #showing the unbalanced reviews\n",
    "\n",
    "Sentiment_count=df.groupby('Rating').count()\n",
    "\n",
    "plt.bar(Sentiment_count.index.values,  Sentiment_count['Review Text'])\n",
    "plt.xlabel('Ratings')\n",
    "plt.ylabel('Number of Reviews')\n",
    "plt.show()\n",
    "\n",
    "\n",
    "plt.bar(Sentiment_count.index.values,  Sentiment_count['Title'])\n",
    "plt.xlabel('Ratings')\n",
    "plt.ylabel('Number of Reviews')\n",
    "plt.show()\n"
   ]
  },
  {
   "cell_type": "code",
   "execution_count": 5,
   "id": "7a99acbd",
   "metadata": {},
   "outputs": [
    {
     "name": "stdout",
     "output_type": "stream",
     "text": [
      "0                          0\n",
      "1                          0\n",
      "2    Some major design flaws\n",
      "3           My favorite buy!\n",
      "4           Flattering shirt\n",
      "Name: Title, dtype: object\n",
      "\n",
      "0    Absolutely wonderful - silky and sexy and comf...\n",
      "1    Love this dress!  it's sooo pretty.  i happene...\n",
      "2    I had such high hopes for this dress and reall...\n",
      "3    I love, love, love this jumpsuit. it's fun, fl...\n",
      "4    This shirt is very flattering to all due to th...\n",
      "Name: Review Text, dtype: object\n"
     ]
    }
   ],
   "source": [
    "# sentiment classify -text and title\n",
    "\n",
    "sentiment_df[\"Title\"] =sentiment_df[\"Title\"].fillna(0)#replace nan with 0 \n",
    "sentiment_df[\"Review Text\"] =sentiment_df[\"Review Text\"].fillna(0)\n",
    "\n",
    "sentiment_df_title=sentiment_df[\"Title\"]\n",
    "sentiment_df_text=sentiment_df[\"Review Text\"]\n",
    "\n",
    "\n",
    "print(sentiment_df_title.head())\n",
    "print()\n",
    "print(sentiment_df_text.head())"
   ]
  },
  {
   "cell_type": "code",
   "execution_count": 6,
   "id": "aecb4c5f",
   "metadata": {},
   "outputs": [
    {
     "name": "stdout",
     "output_type": "stream",
     "text": [
      "was_negated, was_expression =  False False\n",
      "num_good_words, num_bad_words =  0 0\n",
      "final_eval = 0 \n",
      "\n",
      "was_negated, was_expression =  False False\n",
      "num_good_words, num_bad_words =  0 0\n",
      "final_eval = 0 \n",
      "\n",
      "Some major design flaws\n",
      "was_negated, was_expression =  False False\n",
      "num_good_words, num_bad_words =  0 1\n",
      "final_eval = -1 \n",
      "\n",
      "My favorite buy!\n",
      "was_negated, was_expression =  False True\n",
      "num_good_words, num_bad_words =  1 0\n",
      "final_eval = 2 \n",
      "\n",
      "Flattering shirt\n",
      "was_negated, was_expression =  False False\n",
      "num_good_words, num_bad_words =  1 0\n",
      "final_eval = 1 \n",
      "\n",
      "Not for the very petite\n",
      "was_negated, was_expression =  True True\n",
      "num_good_words, num_bad_words =  0 0\n",
      "final_eval = 0 \n",
      "\n",
      "Cagrcoal shimmer fun\n",
      "was_negated, was_expression =  False False\n",
      "num_good_words, num_bad_words =  1 0\n",
      "final_eval = 1 \n",
      "\n",
      "Shimmer, surprisingly goes with lots\n",
      "was_negated, was_expression =  False True\n",
      "num_good_words, num_bad_words =  0 0\n",
      "final_eval = 0 \n",
      "\n",
      "Flattering\n",
      "was_negated, was_expression =  False False\n",
      "num_good_words, num_bad_words =  1 0\n",
      "final_eval = 1 \n",
      "\n",
      "Such a fun dress!\n",
      "was_negated, was_expression =  False True\n",
      "num_good_words, num_bad_words =  1 0\n",
      "final_eval = 2 \n",
      "\n",
      "Dress looks like it's made of cheap material\n",
      "was_negated, was_expression =  False False\n",
      "num_good_words, num_bad_words =  1 0\n",
      "final_eval = 1 \n",
      "\n",
      "was_negated, was_expression =  False False\n",
      "num_good_words, num_bad_words =  0 0\n",
      "final_eval = 0 \n",
      "\n",
      "Perfect!!!\n",
      "was_negated, was_expression =  False True\n",
      "num_good_words, num_bad_words =  1 0\n",
      "final_eval = 2 \n",
      "\n",
      "Runs big\n",
      "was_negated, was_expression =  False False\n",
      "num_good_words, num_bad_words =  0 1\n",
      "final_eval = -1 \n",
      "\n",
      "Pretty party dress with some issues\n",
      "was_negated, was_expression =  False False\n",
      "num_good_words, num_bad_words =  1 1\n",
      "final_eval = 0 \n",
      "\n"
     ]
    }
   ],
   "source": [
    "#title\n",
    "title_evals= []\n",
    "\n",
    "\n",
    "for i in range(len(sentiment_df_title)):#for each sentence \n",
    "    num_good_words = 0 \n",
    "    num_bad_words = 0\n",
    "    \n",
    "    final_eval = 0\n",
    "\n",
    "    was_negated = False  \n",
    "    was_expression = False\n",
    "\n",
    "   \n",
    "    if (sentiment_df_title.values[i]!=0):#not na\n",
    "\n",
    "        sentence = sentiment_df_title.values[i]\n",
    "        \n",
    "        if i < 15: #print first few\n",
    "            print(sentence)#debug\n",
    "        words=word_tokenize(sentence)\n",
    "\n",
    "        for j in range(len(words)): #for each word \n",
    "\n",
    "            word = words[j].lower()\n",
    "            rootWord = lem.lemmatize(word,\"v\") #root words \n",
    "            \n",
    "            #meaning of word\n",
    "            if rootWord in goodWords :\n",
    "                num_good_words+=1\n",
    "\n",
    "            elif rootWord  in badWords:\n",
    "                num_bad_words+=1\n",
    "\n",
    "\n",
    "\n",
    "            elif rootWord in negateWords:\n",
    "                was_negated = True\n",
    "            elif rootWord in expressionWords:\n",
    "                was_expression = True\n",
    "\n",
    "\n",
    "    #calc final eval\n",
    "    final_eval = num_good_words-num_bad_words\n",
    "\n",
    "    #check for negation or expresion\n",
    "    #if a word in negationWords: ->increase other counter\n",
    "    #if a word in expressionWords: ->increase the counter more?\n",
    "    \n",
    "    if(was_negated):\n",
    "        final_eval = -final_eval\n",
    "\n",
    "    if(was_expression):\n",
    "        final_eval = final_eval*2#*5#*10 #nomralize them after?\n",
    "\n",
    "    if i < 15: #print first few\n",
    "\n",
    "        print(\"was_negated, was_expression = \",was_negated,was_expression)\n",
    "        print(\"num_good_words, num_bad_words = \",num_good_words, num_bad_words  )#debug\n",
    "        print(\"final_eval =\",final_eval,\"\\n\"  )\n",
    "    \n",
    "    \n",
    "    #put final eval in list or somthing to add to descript features    \n",
    "    title_evals.append(final_eval)\n",
    "\n"
   ]
  },
  {
   "cell_type": "code",
   "execution_count": 7,
   "id": "f3d7973f",
   "metadata": {},
   "outputs": [
    {
     "name": "stdout",
     "output_type": "stream",
     "text": [
      "final_eval = 3 \n",
      "\n",
      "final_eval = 8 \n",
      "\n",
      "final_eval = 6 \n",
      "\n",
      "final_eval = -14 \n",
      "\n",
      "final_eval = 6 \n",
      "\n",
      "final_eval = -2 \n",
      "\n",
      "final_eval = -4 \n",
      "\n",
      "final_eval = 0 \n",
      "\n",
      "final_eval = -6 \n",
      "\n",
      "final_eval = -4 \n",
      "\n",
      "final_eval = -2 \n",
      "\n",
      "final_eval = 4 \n",
      "\n",
      "final_eval = 2 \n",
      "\n",
      "final_eval = -2 \n",
      "\n",
      "final_eval = 10 \n",
      "\n"
     ]
    }
   ],
   "source": [
    "#text\n",
    "text_evals= []\n",
    "\n",
    "\n",
    "for i in range(len(sentiment_df_text)):#for each sentence \n",
    "    num_good_words = 0 \n",
    "    num_bad_words = 0\n",
    "    \n",
    "    final_eval = 0\n",
    "\n",
    "    was_negated = False  \n",
    "    was_expression = False\n",
    "    \n",
    "    if (sentiment_df_text.values[i]!=0):#not na\n",
    "       \n",
    "        sentence = sentiment_df_text.values[i]\n",
    "        words=word_tokenize(sentence)\n",
    "\n",
    "        for j in range(len(words)): #for each word \n",
    "\n",
    "\n",
    "            word = words[j].lower()\n",
    "            rootWord = lem.lemmatize(word,\"v\") #root words\n",
    "\n",
    "            #meaning of word\n",
    "            if rootWord in goodWords :\n",
    "                num_good_words+=1\n",
    "\n",
    "            elif rootWord  in badWords:\n",
    "                num_bad_words+=1\n",
    "\n",
    "\n",
    "            elif rootWord in negateWords:\n",
    "                was_negated = True\n",
    "            elif rootWord in expressionWords:\n",
    "                was_expression = True\n",
    "\n",
    "\n",
    "    #calc final eval\n",
    "    final_eval = num_good_words-num_bad_words\n",
    "\n",
    "    \n",
    "    #check for negation or expresion  \n",
    "    if(was_negated):  \n",
    "        final_eval = -final_eval\n",
    "\n",
    "    if(was_expression): \n",
    "        final_eval = final_eval*2#*5 #*10\n",
    "\n",
    "    if i < 15: #print first few\n",
    "        #print(\"was_negated, was_expression\",was_negated,was_expression)\n",
    "        #print(\"num_good_words, num_bad_words =\",num_good_words, num_bad_words  )#debug\n",
    "        print(\"final_eval =\",final_eval,\"\\n\"  )\n",
    "    \n",
    "    \n",
    "    #put final eval in list or somthing to add to descript features    \n",
    "    text_evals.append(final_eval)\n",
    "\n"
   ]
  },
  {
   "cell_type": "code",
   "execution_count": 8,
   "id": "159f9efe",
   "metadata": {},
   "outputs": [
    {
     "name": "stdout",
     "output_type": "stream",
     "text": [
      "target_features===============\n",
      "\n",
      "[4 5 3 ... 3 3 5] \n",
      "\n",
      "\n",
      "(23486,)\n",
      "descriptive_features===============\n",
      "\n",
      "   Recommended IND  Positive Feedback Count  titleNew  textNew\n",
      "0                1                        0         0        3\n",
      "1                1                        4         0        8\n",
      "2                0                        0        -1        6\n",
      "3                1                        0         2      -14\n",
      "4                1                        6         1        6 \n",
      "\n",
      "[[ 1  0  0  3]\n",
      " [ 1  4  0  8]\n",
      " [ 0  0 -1  6]\n",
      " ...\n",
      " [ 0  1 -1 -4]\n",
      " [ 1  2  4 -4]\n",
      " [ 1 22  2  8]] \n",
      "\n",
      "\n",
      "(23486, 4)\n"
     ]
    }
   ],
   "source": [
    "#preprocess data #find descriptive vs target features\n",
    "\n",
    "all_features  = df \n",
    "#print(all_features.shape)\n",
    "\n",
    "all_features = all_features.iloc[: , 1:]  #drop first unnamed col of dataframe\n",
    "#print (all_features.head())\n",
    "\n",
    "\n",
    "#Rating is target\n",
    "\n",
    "target_features = np.array(all_features['Rating']) \n",
    "print(\"target_features===============\\n\")\n",
    "print(target_features,\"\\n\\n\")\n",
    "print(target_features.shape)\n",
    "\n",
    "\n",
    "#descriptive_features: want - title, reivew text, Positive Feedback Count,Recommended IND\n",
    "\n",
    "descriptive_features=all_features.drop('Rating', axis = 1)#drop target\n",
    "descriptive_features=descriptive_features.drop('Clothing ID', axis = 1)#drop unneded features\n",
    "descriptive_features=descriptive_features.drop('Age', axis = 1)\n",
    "descriptive_features=descriptive_features.drop('Division Name', axis = 1)\n",
    "descriptive_features=descriptive_features.drop('Department Name', axis = 1)\n",
    "descriptive_features=descriptive_features.drop('Class Name', axis = 1)\n",
    "\n",
    "\n",
    "#replace text and title - with final eval\n",
    "\n",
    "descriptive_features=descriptive_features.drop('Title', axis = 1)\n",
    "descriptive_features=descriptive_features.drop('Review Text', axis = 1)\n",
    "\n",
    "descriptive_features.insert(2, \"titleNew\", title_evals)\n",
    "descriptive_features.insert(3, \"textNew\", text_evals)\n",
    "\n",
    "print(\"descriptive_features===============\\n\")\n",
    "print(descriptive_features.head(),\"\\n\")\n",
    "descriptive_features = np.array(descriptive_features)\n",
    "\n",
    "print(descriptive_features,\"\\n\\n\")\n",
    "print(descriptive_features.shape)\n",
    "\n"
   ]
  },
  {
   "cell_type": "code",
   "execution_count": 9,
   "id": "7f6a2062",
   "metadata": {},
   "outputs": [
    {
     "name": "stdout",
     "output_type": "stream",
     "text": [
      "descriptive_train: (16440, 4)\n",
      "target_train: (16440,)\n",
      "descriptive_test: (7046, 4)\n",
      "target_test: (7046,)\n"
     ]
    }
   ],
   "source": [
    "#Randomly split original data #70% for training : 30% for testing\n",
    "\n",
    "descriptive_train, descriptive_test, target_train, target_test = train_test_split(descriptive_features, target_features, test_size = 0.30)\n",
    "\n",
    "print('descriptive_train:', descriptive_train.shape)\n",
    "print('target_train:', target_train.shape)\n",
    "print('descriptive_test:', descriptive_test.shape)\n",
    "print('target_test:', target_test.shape)"
   ]
  },
  {
   "cell_type": "code",
   "execution_count": 10,
   "id": "66afc01f",
   "metadata": {
    "scrolled": false
   },
   "outputs": [
    {
     "name": "stdout",
     "output_type": "stream",
     "text": [
      "choose k =  29\n"
     ]
    },
    {
     "data": {
      "text/plain": [
       "Text(0, 0.5, 'Mean Error')"
      ]
     },
     "execution_count": 10,
     "metadata": {},
     "output_type": "execute_result"
    },
    {
     "data": {
      "image/png": "[encoded data removed]",
      "text/plain": [
       "<Figure size 864x432 with 1 Axes>"
      ]
     },
     "metadata": {
      "needs_background": "light"
     },
     "output_type": "display_data"
    }
   ],
   "source": [
    "#find a k value for knn- look for lowest point(error) on graph\n",
    "\n",
    "minError = 1 #where is least erorr\n",
    "minErrorK = 0 #which k to choose \n",
    "errors = [0] #errors = [] \n",
    "\n",
    "# Calculate error for dif K values \n",
    "for i in range(1,35):#(5,35):#(1, 40)\n",
    "    \n",
    "    knn = KNeighborsClassifier(n_neighbors=i)\n",
    "    knn.fit(descriptive_train, target_train)\n",
    "    pred_i = knn.predict(descriptive_test)\n",
    "    errors.append(np.mean(pred_i != target_test))\n",
    "    \n",
    "    #print(errors[i-1],np.mean(pred_i != target_test),minError,minErrorK)\n",
    "    if(errors[i]<minError): #if(errors[i-1]<minError):\n",
    "        minError=errors[i]\n",
    "        minErrorK=i\n",
    "        \n",
    "errors=errors[1:]\n",
    "print(\"choose k = \", minErrorK)\n",
    "\n",
    "plt.figure(figsize=(12, 6))\n",
    "plt.plot(range(1, 35), errors, color='red', linestyle='dashed', marker='o', markerfacecolor='blue', markersize=10)\n",
    "\n",
    "plt.title('Error Rate K Value')\n",
    "plt.xlabel('K Value')\n",
    "plt.ylabel('Mean Error')\n"
   ]
  },
  {
   "cell_type": "code",
   "execution_count": 11,
   "id": "7d595bdc",
   "metadata": {},
   "outputs": [
    {
     "name": "stdout",
     "output_type": "stream",
     "text": [
      "K-Nearest Neighbors\n",
      "\n",
      "target_predict===============\n",
      "\n",
      "[5 5 5 ... 5 5 5]\n",
      "(7046,) \n",
      "\n"
     ]
    }
   ],
   "source": [
    "#K-Nearest Neighbors - predictive models\n",
    "\n",
    "print(\"K-Nearest Neighbors\\n\")\n",
    "\n",
    "#model = KNeighborsClassifier(n_neighbors = 32) #make modle #17 #10,50,20  \n",
    "\n",
    "model = KNeighborsClassifier(n_neighbors = minErrorK) #make modle  #more flexible\n",
    "#model = KNeighborsClassifier(n_neighbors = minErrorK,weights='distance')\n",
    "\n",
    "model = model.fit(descriptive_train, target_train) #train\n",
    "target_predict = model.predict(descriptive_test) #predict\n",
    "\n",
    "print(\"target_predict===============\\n\")\n",
    "print(target_predict)\n",
    "print(target_predict.shape,\"\\n\")\n"
   ]
  },
  {
   "cell_type": "code",
   "execution_count": 12,
   "id": "0f2908f2",
   "metadata": {},
   "outputs": [
    {
     "name": "stdout",
     "output_type": "stream",
     "text": [
      "F1score: 0.558368\n",
      "recall: 0.622197\n"
     ]
    }
   ],
   "source": [
    "# eval model # recall,f1 score\n",
    "\n",
    "fscore = f1_score(target_test, target_predict, average='weighted')\n",
    "print('F1score: {:f}'.format( fscore))\n",
    "\n",
    "\n",
    "#precision = precision_score(target_test, target_predict, average='weighted')\n",
    "#print('precision: {:f}'.format( precision))\n",
    "\n",
    "recall = recall_score(target_test, target_predict, average='weighted')\n",
    "print('recall: {:f}'.format( recall))"
   ]
  },
  {
   "cell_type": "code",
   "execution_count": 13,
   "id": "cd9076ac",
   "metadata": {},
   "outputs": [
    {
     "name": "stdout",
     "output_type": "stream",
     "text": [
      "Naive Bayes\n",
      "\n",
      "target_predict===============\n",
      "\n",
      "[5 5 5 ... 5 5 5]\n",
      "(7046,) \n",
      "\n",
      "F1score: 0.506446\n",
      "recall: 0.609424\n"
     ]
    }
   ],
   "source": [
    "#Naive Bayes - predictive models #not as good\n",
    "\n",
    "print(\"Naive Bayes\\n\")\n",
    "\n",
    "model = GaussianNB() #make modle\n",
    "model = model.fit(descriptive_train, target_train) #train\n",
    "target_predict = model.predict(descriptive_test) #predict\n",
    "\n",
    "print(\"target_predict===============\\n\")\n",
    "print(target_predict)\n",
    "print(target_predict.shape,\"\\n\")\n",
    "\n",
    "\n",
    "fscore = f1_score(target_test, target_predict, average='weighted')\n",
    "print('F1score: {:f}'.format( fscore))\n",
    "recall = recall_score(target_test, target_predict, average='weighted')\n",
    "print('recall: {:f}'.format( recall))"
   ]
  },
  {
   "cell_type": "code",
   "execution_count": 14,
   "id": "cf515de1",
   "metadata": {},
   "outputs": [
    {
     "name": "stdout",
     "output_type": "stream",
     "text": [
      "              precision    recall  f1-score   support\n",
      "\n",
      "           1       0.60      0.20      0.30       719\n",
      "           2       0.32      0.34      0.33       462\n",
      "           3       0.06      0.38      0.11       152\n",
      "           4       0.00      0.50      0.01        12\n",
      "           5       0.99      0.69      0.81      5701\n",
      "\n",
      "    accuracy                           0.61      7046\n",
      "   macro avg       0.40      0.42      0.31      7046\n",
      "weighted avg       0.88      0.61      0.71      7046\n",
      "\n",
      "[[ 144  275  274   24    2]\n",
      " [  81  155  199   24    3]\n",
      " [  14   31   57   20   30]\n",
      " [   0    0    2    6    4]\n",
      " [   2   19  370 1378 3932]]\n"
     ]
    },
    {
     "name": "stderr",
     "output_type": "stream",
     "text": [
      "C:\\Users\\Morgan\\AppData\\Local\\Temp/ipykernel_23456/2904237043.py:17: UserWarning: FixedFormatter should only be used together with FixedLocator\n",
      "  ax.set_xticklabels([''] + labels)\n",
      "C:\\Users\\Morgan\\AppData\\Local\\Temp/ipykernel_23456/2904237043.py:18: UserWarning: FixedFormatter should only be used together with FixedLocator\n",
      "  ax.set_yticklabels([''] + labels)\n"
     ]
    },
    {
     "data": {
      "image/png": "[encoded data removed]",
      "text/plain": [
       "<Figure size 432x288 with 2 Axes>"
      ]
     },
     "metadata": {
      "needs_background": "light"
     },
     "output_type": "display_data"
    }
   ],
   "source": [
    "#visualizations \n",
    "#eg\n",
    "#1,1 -> true pos of rating 1 \n",
    "#5,5 -> true pos of rating 5\n",
    "\n",
    "\n",
    "def draw_confusion_matrices(confusion_matrices, class_names):\n",
    "    labels = list(class_names)\n",
    "\n",
    "    for cm in confusion_matrices:\n",
    "        fig = pl.figure()\n",
    "        ax = fig.add_subplot(111)\n",
    "\n",
    "        cax = ax.matshow(cm[1])\n",
    "        pl.title('Confusion Matrix\\n(%s)\\n' % cm[0])\n",
    "        fig.colorbar(cax)\n",
    "        ax.set_xticklabels([''] + labels)\n",
    "        ax.set_yticklabels([''] + labels)\n",
    "        pl.xlabel('Predicted Class')\n",
    "        pl.ylabel('True Class')\n",
    "\n",
    "        for i,j in ((x,y) for x in range(len(cm[1])) for y in range(len(cm[1][0]))):\n",
    "            ax.annotate(str(cm[1][i][j]), xy=(i,j), color='white')\n",
    "\n",
    "        pl.show()\n",
    "        \n",
    "\n",
    "y= target_test\n",
    "y = np.array(y)\n",
    "class_names = np.unique(y)\n",
    "\n",
    "\n",
    "print(classification_report(target_predict, target_test))\n",
    "print(confusion_matrix(target_predict, target_test))\n",
    "    \n",
    "\n",
    "confusion_matrices = [ (\"K-Nearest Neighbor\", confusion_matrix(y, target_predict))]\n",
    "draw_confusion_matrices(confusion_matrices, class_names)"
   ]
  },
  {
   "cell_type": "code",
   "execution_count": 15,
   "id": "4c82125b",
   "metadata": {},
   "outputs": [
    {
     "data": {
      "text/plain": [
       "'\\nIN CONCLUSIONS...we get results similar to : \\n\\nF1score: 0.555832\\nrecall: 0.619075\\n\\n                  precision    recall  f1-score   support\\n\\n           1       0.05      0.30      0.08        44\\n           2       0.27      0.36      0.31       371\\n           3       0.33      0.39      0.36       713\\n           4       0.15      0.45      0.22       506\\n           5       0.96      0.69      0.80      5412\\n\\n    accuracy                           0.62      7046\\n   macro avg       0.35      0.44      0.35      7046\\nweighted avg       0.79      0.62      0.68      7046\\n\\n\\n \\ntherefore our model is about 62% accurate, F1score is 56%, and recall is 62% .\\n\\nIn addition:\\nf1 score of each target is different. \\neg: \\nrating 1 with fscore= 0.08 \\nvs \\nrating 5 with fscore= 0.80 \\n\\nthis is either because the data is highly imbalanced or because we are better at predicting the 5 star ratings.\\n\\n'"
      ]
     },
     "execution_count": 15,
     "metadata": {},
     "output_type": "execute_result"
    }
   ],
   "source": [
    "'''\n",
    "IN CONCLUSIONS...we get results similar to : \n",
    "\n",
    "F1score: 0.555832\n",
    "recall: 0.619075\n",
    "\n",
    "                  precision    recall  f1-score   support\n",
    "\n",
    "           1       0.05      0.30      0.08        44\n",
    "           2       0.27      0.36      0.31       371\n",
    "           3       0.33      0.39      0.36       713\n",
    "           4       0.15      0.45      0.22       506\n",
    "           5       0.96      0.69      0.80      5412\n",
    "\n",
    "    accuracy                           0.62      7046\n",
    "   macro avg       0.35      0.44      0.35      7046\n",
    "weighted avg       0.79      0.62      0.68      7046\n",
    "\n",
    "\n",
    " \n",
    "therefore our model is about 62% accurate, F1score is 56%, and recall is 62% .\n",
    "\n",
    "In addition:\n",
    "f1 score of each target is different. \n",
    "eg: \n",
    "rating 1 with fscore= 0.08 \n",
    "vs \n",
    "rating 5 with fscore= 0.80 \n",
    "\n",
    "this is either because the data is highly imbalanced or because we are better at predicting the 5 star ratings.\n",
    "\n",
    "'''\n",
    "#cp322 project"
   ]
  },
  {
   "cell_type": "code",
   "execution_count": null,
   "id": "4be2fa68",
   "metadata": {},
   "outputs": [],
   "source": []
  }
 ],
 "metadata": {
  "kernelspec": {
   "display_name": "Python 3 (ipykernel)",
   "language": "python",
   "name": "python3"
  },
  "language_info": {
   "codemirror_mode": {
    "name": "ipython",
    "version": 3
   },
   "file_extension": ".py",
   "mimetype": "text/x-python",
   "name": "python",
   "nbconvert_exporter": "python",
   "pygments_lexer": "ipython3",
   "version": "3.9.7"
  }
 },
 "nbformat": 4,
 "nbformat_minor": 5
}
